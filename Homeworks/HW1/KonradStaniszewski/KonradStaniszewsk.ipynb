{
 "cells": [
  {
   "cell_type": "markdown",
   "metadata": {},
   "source": [
    "## Task 1\n",
    "\n",
    "We have two populations Blue (privileged) and Red (unprivileged), with the Blue population being 9 times larger than the Red population.\n",
    "\n",
    "Individuals from both populations are requesting to attend XAI training to improve competency in this important area. Number of places is limited. The administrators of the training have decided to give priority to enrolling individuals who may need this training in the future, although unfortunately it is difficult to predict who will benefit.\n",
    "\n",
    "The decision rule adopted:\n",
    "1. In the Red group, half of the people will find the skills useful in future and half will not. Administrators randomly allocate 50% of people to training.\n",
    "2. in the Blue group, 80% of people will find the training useful in future and 20% will not, although of course it is not known who will find it useful. The administrators have built a predictive model based on user behaviour in predicting for whom it will be useful and whom will not. The model has the following performance:\n",
    "\n",
    "\n",
    "| Blue                     \t| Will use XAI \t| Will not use XAI \t| Total \t|\n",
    "|--------------------------\t|--------------\t|------------------\t|-------\t|\n",
    "| Enrolled in training     \t| 60           \t| 5               \t| 65    \t|\n",
    "| not enrolled in training \t| 20            \t| 15               \t| 35    \t|\n",
    "| Total                    \t| 80           \t| 20               \t| 100   \t|\n",
    "\n",
    "\n",
    "Task: Calculate the Demographic parity, equal opportunity and predictive rate parity coefficients for this decision rule.\n",
    "\n",
    "Starred task: How can this decision rule be changed to improve its fairness?"
   ]
  },
  {
   "cell_type": "markdown",
   "metadata": {},
   "source": [
    "## Solution\n",
    "\n",
    "Let $G$ - be a random variable that denotes the protected attribute (in this case group; $G=0$ for red and $G=1$ for blue).  \n",
    "Let $Y$ - be a random variable that denotes whether a person will use XAI in the future ($Y=1$ denotes that a person will use XAI in the future and $Y=0$ that a person won't use XAI in the future ).  \n",
    "Let $E$ - be a random variable that denotes whether a person was enrolled in the course ($E=1$ mean enrolled and $E = 0$ means not enrolled).  \n",
    "\n",
    "### Demographic parity can be defined as follows:  \n",
    "$P(E=1 | G=0) = P(E=1 | G=1)$  \n",
    "and the coefficient  \n",
    "$\\frac{P(E=1 | G=0)}{P(E=1 | G=1)} = \\frac{0.5}{0.65} = 0.769230769231$  \n",
    "One can note that here the assigment is a bit unfair, as according to lecture range $[0.8;1.2]$ is preferred.  \n",
    "\n",
    "\n",
    "### Equal opportunity can be defined as follows:  \n",
    "$P(E=1 | Y = 1, G = 0) = P(E=1 | Y = 1, G = 1)$   \n",
    "with the coefficient  \n",
    "$\\frac{P(E=1 | Y = 1, G = 0)}{P(E=1 | Y = 1, G = 1)} = \\frac{0.5}{0.75} = \\frac{2}{3} - 0.667$  \n",
    "\n",
    "\n",
    "### For predictive rate parity we calculate  positive predictive parity and negative predictive parity can be defined as follows\n",
    "\n",
    "Positive predictive parity can be defined as follows:  \n",
    "$P(Y=1 | E = 1, G = 0) = P(Y=1 | E = 1, G = 1)$   \n",
    "with the coefficient  \n",
    "$\\frac{P(Y=1 | E = 1, G = 0) }{P(Y=1 | E = 1, G = 1)} = \\frac{0.5}{\\frac{60}{65}} = \\frac{65}{120} = \\frac{13}{24} = 0.541$  \n",
    "\n",
    "\n",
    "Negative predictive parity can be defined as follows:  \n",
    "$P(Y=1 | E = 0, G = 0) = P(Y=1 | E = 0, G = 1)$   \n",
    "with the coefficient  \n",
    "$\\frac{P(Y=1 | E = 0, G = 0) }{P(Y=1 | E = 0, G = 1)} = \\frac{0.5}{\\frac{20}{35}} = \\frac{35}{40} = \\frac{7}{8} = 0.875$ \n",
    "\n",
    "\n",
    "### How to improve the coefficients?\n",
    "One simple solution is to increase the probability of enrolling people from the red group.  \n",
    "For example when choosing the probability to be $\\frac{20}{35}$ we get\n",
    "$\\frac{P(E=1 | G=0)}{P(E=1 | G=1)} = 0.879120879120879$  \n",
    "$\\frac{P(E=1 | Y = 1, G = 0)}{P(E=1 | Y = 1, G = 1)} = 0.7619047619047619$  \n",
    "$\\frac{P(Y=1 | E = 1, G = 0) }{P(Y=1 | E = 1, G = 1)} = 0.619047619047619$  \n",
    "$\\frac{P(Y=1 | E = 0, G = 0) }{P(Y=1 | E = 0, G = 1)} = 1.0$ \n",
    "\n",
    "If we aim only at improving  Demographic parity then we can set the probability for the red group to $0.65$.\n"
   ]
  },
  {
   "cell_type": "markdown",
   "metadata": {},
   "source": [
    "\n",
    "## Task 2\n",
    "\n",
    "For this homework, train few models on a selected dataset from https://github.com/ahxt/fair_fairness_benchmark/:\n",
    "\n",
    "Prepare a knitr/jupiter notebook with the following points.\n",
    "Submit your results on GitHub to the directory `Homeworks/HW1`.\n",
    "\n",
    "1. Train a model for the selected dataset. \n",
    "2. For the selected protected attribute (age, gender, race) calculate the following fairness coefficients: Statistical parity, Equal opportunity, Predictive parity.\n",
    "3. Train another model (different hyperparameters, feature transformations etc., different family of models) and see how the coefficients Statistical parity, Equal opportunity, Predictive parity behave for it. Are they different/similar?\n",
    "4. Apply the selected bias mitigation technique (like data balancing) on the first model. Check how Statistical parity, Equal opportunity, Predictive parity coefficients behave after this mittigation.\n",
    "5. Compare the quality (performance) of the three models with their fairness coefficients. Is there any correlation/trade off? \n",
    "6. ! COMMENT on the results obtained in (2)-(5)\n",
    "\n",
    "\n",
    "## Alternative task\n",
    "\n",
    "Alternative homework\n",
    "\n",
    "If you prefer proving theorems instead of calculations,\n",
    "then instead of the above assignments, \n",
    "you can prove that except for trivial situations \n",
    "(independence between a decision with a group), \n",
    "no two of the three fairness equalities \n",
    "(demographic parity, equal opportunity, predictive rate parity) \n",
    "can occur simultaneously.\n",
    "\n",
    "\n",
    "## **Important note:**\n",
    "\n",
    "Try to convert the jupyter notebook into an HTML file, e.g. using the following command in bash\n",
    "\n",
    "```\n",
    "jupyter nbconvert --to=html --template=classic FILE_NAME.ipynb\n",
    "```\n",
    "\n",
    "The submitted homework should consist of two parts:\n",
    "\n",
    "1. The 1st part is the key results and comments from points (2)-(5). In this part **PLEASE DO NOT SHOW ANY R/PYTHON CODES, ONLY RESULTS (FIGURES, COMMENTS).**\n",
    "2. The 2nd part should start with the word \"Appendix\" or \"Załącznik\" and should include the reproducible R/Python code used to implement points (1)-(5).\n"
   ]
  },
  {
   "cell_type": "markdown",
   "metadata": {},
   "source": [
    "## Solution"
   ]
  },
  {
   "cell_type": "markdown",
   "metadata": {},
   "source": [
    "### Point 1\n",
    "We train a single Linear Layer.   \n",
    "With regularization, the model achieves good results on train and test sets within a few epochs.  \n",
    "This is one of the simplest models, as it can only linearly weight features to form a prediction.  "
   ]
  },
  {
   "cell_type": "markdown",
   "metadata": {},
   "source": [
    "### Point 2\n",
    "\n",
    "We select the gender attribute. We ensure the model does not have access to this attribute during the training and evaluation.  \n",
    "We train 10 models and measure Statistical parity, Equal opportunity, and Predictive parity on the test set. The results are attached below.  \n",
    "We observe that the models are remarkably unfair when considering statistical parity.  \n",
    "Further investigation into the data unravels that the train and test data are around 33% females.  \n",
    "What is more in the train data only 15% of high-salary people are females.\n",
    "This can be the reason for the low statistical parity coefficient."
   ]
  },
  {
   "cell_type": "code",
   "execution_count": 1,
   "metadata": {},
   "outputs": [
    {
     "data": {
      "image/png": "[encoded data removed]",
      "text/plain": [
       "<Figure size 1600x800 with 1 Axes>"
      ]
     },
     "metadata": {},
     "output_type": "display_data"
    },
    {
     "name": "stdout",
     "output_type": "stream",
     "text": [
      "{\n",
      "  \"Train Accuracy\": {\n",
      "    \"value\": \"76.7% +- 0.3\"\n",
      "  },\n",
      "  \"Test Accuracy\": {\n",
      "    \"value\": \"76.7% +- 0.2\"\n",
      "  },\n",
      "  \"Statistical parity\": {\n",
      "    \"value\": \"30.0% +- 12.5\"\n",
      "  },\n",
      "  \"Equal opportunity\": {\n",
      "    \"value\": \"82.6% +- 34.4\"\n",
      "  },\n",
      "  \"Positive predictive parity\": {\n",
      "    \"value\": \"90.0% +- 30.0\"\n",
      "  },\n",
      "  \"Negative predictive parity\": {\n",
      "    \"value\": \"36.2% +- 0.1\"\n",
      "  }\n",
      "}\n"
     ]
    }
   ],
   "source": [
    "import matplotlib.pyplot as plt\n",
    "import numpy as np\n",
    "import json\n",
    "\n",
    "def plot_data(data):\n",
    "\n",
    "    names = []\n",
    "    values = []\n",
    "    stds = []\n",
    "\n",
    "    brief_results = {}\n",
    "\n",
    "    for k, v in data.items():\n",
    "        names.append(k)\n",
    "        values.append(np.mean(v))\n",
    "        stds.append(np.std(v))\n",
    "        brief_results[k] = {\n",
    "            \"value\": f\"{values[-1]*100:.1f}% +- {stds[-1]*100:.1f}\"\n",
    "        }\n",
    "\n",
    "    plt.figure(figsize=(16, 8))\n",
    "    plt.bar(names, values)\n",
    "    plt.errorbar(\n",
    "        names,\n",
    "        values,\n",
    "        stds,\n",
    "        fmt=\".\",\n",
    "        color=\"Black\",\n",
    "        elinewidth=2,\n",
    "        capthick=10,\n",
    "        errorevery=1,\n",
    "        alpha=0.5,\n",
    "        ms=4,\n",
    "        capsize=2,\n",
    "    )\n",
    "    plt.ylim(0, 2)\n",
    "    plt.show()\n",
    "    print(json.dumps(brief_results, indent=2))\n",
    "\n",
    "\n",
    "exp1_data = {'Train Accuracy': [0.7660084366798401, 0.7725499868392944, 0.7654862999916077, 0.7631215453147888, 0.7657627463340759, 0.7690488696098328, 0.7693559527397156, 0.7695402503013611, 0.7616166472434998, 0.7670833468437195], 'Test Accuracy': [0.7715128064155579, 0.7643879652023315, 0.7662919759750366, 0.766906201839447, 0.7697315812110901, 0.7664762735366821, 0.7660462856292725, 0.7652478218078613, 0.7657392024993896, 0.7667833566665649], 'Statistical parity': [0.3557297885417938, 0.0, 0.41244831681251526, 0.3727107644081116, 0.31003767251968384, 0.379006564617157, 0.3877394497394562, 0.18212004005908966, 0.2072400450706482, 0.39089176058769226], 'Equal opportunity': [0.9799462556838989, 0.0, 1.1361913681030273, 1.0267244577407837, 0.8540758490562439, 1.0440677404403687, 1.0681246519088745, 0.501694917678833, 0.5708942413330078, 1.0768085718154907], 'Positive predictive parity': [1.0, 0.0, 1.0, 1.0, 1.0, 1.0, 1.0, 1.0, 1.0, 1.0], 'Negative predictive parity': [0.36094290848137467, 0.363792571800657, 0.3618201838716416, 0.3619770711412837, 0.3624628778438556, 0.3620570304709764, 0.36213710121897974, 0.36363636363636365, 0.36363752314559816, 0.361818776811426]}\n",
    "\n",
    "plot_data(exp1_data)"
   ]
  },
  {
   "cell_type": "markdown",
   "metadata": {},
   "source": [
    "# Point 3\n",
    "We train 10 simple Swiglu-inspired models, that should have greater capabilities.  \n",
    "We observe that they have lower variance, better train and test set accuracy, and on average better statistical parity coefficient.\n",
    "This is not suprising as those models are more expressive."
   ]
  },
  {
   "cell_type": "code",
   "execution_count": 2,
   "metadata": {},
   "outputs": [
    {
     "data": {
      "image/png": "[encoded data removed]",
      "text/plain": [
       "<Figure size 1600x800 with 1 Axes>"
      ]
     },
     "metadata": {},
     "output_type": "display_data"
    },
    {
     "name": "stdout",
     "output_type": "stream",
     "text": [
      "{\n",
      "  \"Train Accuracy\": {\n",
      "    \"value\": \"83.5% +- 0.0\"\n",
      "  },\n",
      "  \"Test Accuracy\": {\n",
      "    \"value\": \"77.8% +- 0.5\"\n",
      "  },\n",
      "  \"Statistical parity\": {\n",
      "    \"value\": \"46.9% +- 4.9\"\n",
      "  },\n",
      "  \"Equal opportunity\": {\n",
      "    \"value\": \"115.2% +- 6.2\"\n",
      "  },\n",
      "  \"Positive predictive parity\": {\n",
      "    \"value\": \"89.7% +- 5.4\"\n",
      "  },\n",
      "  \"Negative predictive parity\": {\n",
      "    \"value\": \"35.4% +- 0.5\"\n",
      "  }\n",
      "}\n"
     ]
    }
   ],
   "source": [
    "exp2_data = {'Train Accuracy': [0.8356316089630127, 0.8350480794906616, 0.8353859186172485, 0.8354166150093079, 0.8351094722747803, 0.8353244662284851, 0.8348944783210754, 0.8348637819290161, 0.8353859186172485, 0.835201621055603], 'Test Accuracy': [0.7790061831474304, 0.7809102535247803, 0.7732325792312622, 0.773908257484436, 0.772986888885498, 0.7769793272018433, 0.7788833379745483, 0.7867453098297119, 0.7874823212623596, 0.7739696502685547], 'Statistical parity': [0.5047736167907715, 0.5061020255088806, 0.4006640911102295, 0.42454472184181213, 0.41289809346199036, 0.47567427158355713, 0.4907732903957367, 0.5256236791610718, 0.5348671078681946, 0.411277711391449], 'Equal opportunity': [1.1842584609985352, 1.2052210569381714, 1.0870057344436646, 1.0583701133728027, 1.1209745407104492, 1.1865085363388062, 1.1808452606201172, 1.2010271549224854, 1.2346292734146118, 1.0583701133728027], 'Positive predictive parity': [0.8516630901287553, 0.8644636015325671, 0.9848484848484849, 0.9049657534246575, 0.9855324074074074, 0.9054807692307693, 0.8734340325005369, 0.829460990695982, 0.8379318794413133, 0.9341581970835173], 'Negative predictive parity': [0.35365971210329417, 0.351834287281944, 0.35896692725876955, 0.3591010388554988, 0.35864159950385344, 0.3547504995226621, 0.353815104359274, 0.3474839680170028, 0.3457156217744996, 0.35903441528613783]}\n",
    "\n",
    "\n",
    "plot_data(exp2_data)\n"
   ]
  },
  {
   "cell_type": "markdown",
   "metadata": {},
   "source": [
    "## Point 4\n",
    "We prepare a new training dataset by choosing equal number of positive and negative samples for each gender.   \n",
    "That is in our dataset the number of high earning females is equal to the number of high earning males, and the same hold for people with lower salaries.  \n",
    "We observe a decrease in accurancy and high variance. What is more some of the models have almost perfect equal opportunity.\n",
    "However, as noted, the predictive power of the models reduced due to change of the training data."
   ]
  },
  {
   "cell_type": "code",
   "execution_count": 3,
   "metadata": {},
   "outputs": [
    {
     "data": {
      "image/png": "[encoded data removed]",
      "text/plain": [
       "<Figure size 1600x800 with 1 Axes>"
      ]
     },
     "metadata": {},
     "output_type": "display_data"
    },
    {
     "name": "stdout",
     "output_type": "stream",
     "text": [
      "{\n",
      "  \"Train Accuracy\": {\n",
      "    \"value\": \"66.1% +- 9.3\"\n",
      "  },\n",
      "  \"Test Accuracy\": {\n",
      "    \"value\": \"55.3% +- 26.0\"\n",
      "  },\n",
      "  \"Statistical parity\": {\n",
      "    \"value\": \"45.5% +- 46.0\"\n",
      "  },\n",
      "  \"Equal opportunity\": {\n",
      "    \"value\": \"55.1% +- 48.2\"\n",
      "  },\n",
      "  \"Positive predictive parity\": {\n",
      "    \"value\": \"34.5% +- 36.5\"\n",
      "  },\n",
      "  \"Negative predictive parity\": {\n",
      "    \"value\": \"31.8% +- 27.9\"\n",
      "  }\n",
      "}\n"
     ]
    }
   ],
   "source": [
    "exp3_data = {'Train Accuracy': [0.6666666865348816, 0.6618603467941284, 0.7251908183097839, 0.6590330600738525, 0.7777777910232544, 0.7348034977912903, 0.545660138130188, 0.6511167883872986, 0.45207804441452026, 0.73508620262146], 'Test Accuracy': [0.23622627556324005, 0.7637737393379211, 0.23125115036964417, 0.236164852976799, 0.7637737393379211, 0.7646335959434509, 0.23622627556324005, 0.7643879652023315, 0.7682574987411499, 0.7641422748565674], 'Statistical parity': [1.0, 0.0, 1.0038877725601196, 1.0000921487808228, 0.0, 0.15410158038139343, 1.0, 0.0, 0.39409583806991577, 0.0], 'Equal opportunity': [1.0, 0.0, 0.9988261461257935, 1.0003072023391724, 0.0, 0.4245111048221588, 1.0, 0.0, 1.0856349468231201, 0.0], 'Positive predictive parity': [0.36300953567140615, 0.0, 0.36117921866763675, 0.36308762277664575, 0.0, 1.0, 0.36300953567140615, 0.0, 1.0, 0.0], 'Negative predictive parity': [0.0, 0.36300953567140615, 1.0, 0.0, 0.36300953567140615, 0.36347847706044123, 0.0, 0.363792571800657, 0.3611798685955217, 0.36347877910689197]}\n",
    "\n",
    "\n",
    "plot_data(exp3_data)"
   ]
  },
  {
   "cell_type": "markdown",
   "metadata": {},
   "source": [
    "## Point 5\n",
    "The Swiglu models were the most stable (low std) and achieved the highest predition accurancies.  \n",
    "The best equal opportunity coeff was obtained with some models trained on the balanced data. \n",
    "However, training on the balanced data reduced the number of samples and introduced changes between train and test distributions (see point 2).  \n",
    "We hypothesize that this resulted in models expressing the highest std in the evaluation metrics and achieving the lowest accuracy scores.  \n",
    "We note that in the case of a simple model, there is a tradeoff between achieving good equal opportunity coeff and obtaining a good predictive model.  \n",
    "We also note that acquiring a balanced sample of the training data can increase costs and is a more general problem, such as creation of fair image and text generation models.\n",
    "\n",
    "\n",
    "\n",
    "| Metric                     | Model 1               | Model 2               | Model 3               |\n",
    "|----------------------------|-----------------------|-----------------------|-----------------------|\n",
    "| **Train Accuracy**          | 76.7% ± 0.3           | 83.5% ± 0.0           | 66.1% ± 9.3           |\n",
    "| **Test Accuracy**           | 76.7% ± 0.2           | 77.8% ± 0.5           | 55.3% ± 26.0          |\n",
    "| **Statistical Parity**      | 30.0% ± 12.5          | 46.9% ± 4.9           | 45.5% ± 46.0          |\n",
    "| **Equal Opportunity**       | 82.6% ± 34.4          | 115.2% ± 6.2          | 55.1% ± 48.2          |\n",
    "| **Positive Predictive Parity** | 90.0% ± 30.0         | 89.7% ± 5.4           | 34.5% ± 36.5          |\n",
    "| **Negative Predictive Parity** | 36.2% ± 0.1         | 35.4% ± 0.5           | 31.8% ± 27.9          |\n",
    "\n"
   ]
  },
  {
   "cell_type": "markdown",
   "metadata": {},
   "source": [
    "## Point 6\n",
    "Results are commented in each point separately."
   ]
  },
  {
   "cell_type": "markdown",
   "metadata": {},
   "source": [
    "## Appendix"
   ]
  },
  {
   "cell_type": "markdown",
   "metadata": {},
   "source": [
    "## Task 2"
   ]
  },
  {
   "cell_type": "code",
   "execution_count": 4,
   "metadata": {},
   "outputs": [],
   "source": [
    "# First we load and preapare the data about people and their salaries\n",
    "\n",
    "\n",
    "import torch\n",
    "import pandas as pd\n",
    "from io import StringIO\n",
    "import os\n",
    "from typing import List, Dict, Callable, Tuple\n",
    "import copy\n",
    "\n",
    "\n",
    "def load_and_prepare_data(data_path: str, description_path: str, norm_spec={}):\n",
    "\n",
    "    def load_data_file(path: str):\n",
    "        with open(path, \"r\") as f:\n",
    "            lines = f.readlines()\n",
    "\n",
    "        result = [\n",
    "            l for l in lines if len(l.strip()) == 0 or l.strip()[0] != \"|\"\n",
    "        ]  # skip comments\n",
    "        return result\n",
    "\n",
    "    def load_data(data_path, description_path):\n",
    "\n",
    "        def clean(x):\n",
    "            if len(x) > 0 and x[-1] == \".\":\n",
    "                return x[:-1]\n",
    "            else:\n",
    "                return x \n",
    "\n",
    "        raw_description = load_data_file(description_path)\n",
    "\n",
    "        description = []\n",
    "        possible_values = []\n",
    "        start = False\n",
    "        for i, rd in enumerate(raw_description):\n",
    "            if rd.startswith(\"age:\"):\n",
    "                start = True\n",
    "\n",
    "            if start:\n",
    "                description.append(rd.split(\":\")[0])\n",
    "                possible_values.append(clean(v) for v in rd.split(\":\")[1].strip()[:-1].split(\",\"))\n",
    "                possible_values[-1] = [pv.strip() for pv in possible_values[-1]]\n",
    "\n",
    "        description.append(\"salary\")\n",
    "        possible_values.append([\">50K\", \"<=50K\"])\n",
    "\n",
    "        raw_data = load_data_file(data_path)\n",
    "\n",
    "        raw_data = [clean(rd.strip()) for rd in raw_data]\n",
    "\n",
    "        raw_data = [\",\".join(description)] + raw_data\n",
    "\n",
    "        raw_data = \"\\n\".join(raw_data)\n",
    "        raw_data = \",\".join(raw_data.split(\", \"))\n",
    "\n",
    "        data_frame = pd.read_csv(StringIO(raw_data))\n",
    "\n",
    "        return data_frame, possible_values\n",
    "\n",
    "    def prepare_data(\n",
    "        data_frame: pd.DataFrame,\n",
    "        possible_values: List[str],\n",
    "        norm_spec: Dict[str, Callable],\n",
    "    ):\n",
    "        norm_spec = copy.deepcopy(norm_spec)\n",
    "        columns = data_frame.columns\n",
    "        assert len(columns) == len(possible_values)\n",
    "        json_data = {}\n",
    "\n",
    "        for c, pv in zip(columns, possible_values):\n",
    "            if len(pv) == 1 and pv[0] == \"continuous\":\n",
    "                if c not in norm_spec:\n",
    "                    minv = data_frame[c].min().item()\n",
    "                    maxv = data_frame[c].max().item()\n",
    "                    interval = max(maxv - minv, 1.0)\n",
    "                    ns = lambda x: (x - minv) / interval\n",
    "                    norm_spec[c] = ns\n",
    "                json_data[c] = norm_spec[c](data_frame[c].to_numpy())\n",
    "            else:\n",
    "                assert len(pv) > 1, pv\n",
    "                for p in pv:\n",
    "                    new_c = c + \"_\" + p\n",
    "                    json_data[new_c] = (data_frame[c] == p).to_numpy()\n",
    "\n",
    "        new_df = pd.DataFrame(json_data)\n",
    "\n",
    "        return new_df, norm_spec\n",
    "\n",
    "    df, pv = load_data(data_path=data_path, description_path=description_path)\n",
    "\n",
    "    df, norm_spec = prepare_data(data_frame=df, possible_values=pv, norm_spec=norm_spec)\n",
    "\n",
    "    return df, norm_spec\n",
    "\n",
    "\n",
    "train_data_path = os.path.join(os.getcwd(), \"adult.data\")\n",
    "test_data_path = os.path.join(os.getcwd(), \"adult.test\")\n",
    "description_path = os.path.join(os.getcwd(), \"adult.names\")\n",
    "\n",
    "train_df, ns = load_and_prepare_data(train_data_path, description_path)\n",
    "test_df, ns = load_and_prepare_data(test_data_path, description_path, norm_spec=ns)\n"
   ]
  },
  {
   "cell_type": "code",
   "execution_count": 5,
   "metadata": {},
   "outputs": [],
   "source": [
    "from tqdm import tqdm\n",
    "import numpy as np\n",
    "import json\n",
    "\n",
    "DEVICE = torch.device(\"cpu\")\n",
    "\n",
    "TARGET = \"salary_>50K\"\n",
    "REMOVE = [\"salary_<=50K\", \"sex_Female\", \"sex_Male\"]\n",
    "PROTECTED_ATTRIBUTE = [\"sex_Female\", \"sex_Male\"]\n",
    "\n",
    "\n",
    "def data_to_numpy(data: pd.DataFrame, target: str, remove: List[str]):\n",
    "    columns_to_keep = [c for c in data.columns if c not in remove]\n",
    "    json_data = {k: data[k] for k in columns_to_keep}\n",
    "    data = pd.DataFrame(json_data)\n",
    "\n",
    "    y = torch.from_numpy(data[target].to_numpy().astype(np.float32))\n",
    "    columns_without_target = [c for c in columns_to_keep if c != target]\n",
    "    x = torch.from_numpy(data[columns_without_target].to_numpy().astype(np.float32))\n",
    "\n",
    "    return x, y\n",
    "\n",
    "\n",
    "def train(\n",
    "    model: torch.nn.Module,\n",
    "    optimizer: torch.optim.Optimizer,\n",
    "    train_df: pd.DataFrame,\n",
    "    test_df: pd.DataFrame,\n",
    "    num_epochs: int,\n",
    "    batch_size: int,\n",
    "    device=DEVICE,\n",
    "    target: str = TARGET,\n",
    "    remove_columns: List[str] = REMOVE,\n",
    "):\n",
    "\n",
    "    test_x, test_y = data_to_numpy(data=test_df, target=target, remove=remove_columns)\n",
    "    test_x = test_x.to(device)\n",
    "    test_y = test_y.to(device)\n",
    "\n",
    "    @torch.no_grad()\n",
    "    def eval_model(x, y):\n",
    "        model.eval()\n",
    "        logits = model(x)\n",
    "        predictions = (logits[..., 1] > logits[..., 0]).to(torch.float32).flatten()\n",
    "\n",
    "        accuracy = (predictions == y.flatten()).to(torch.float32).mean()\n",
    "\n",
    "        return accuracy\n",
    "\n",
    "    train_x, train_y = data_to_numpy(\n",
    "        data=train_df, target=target, remove=remove_columns\n",
    "    )\n",
    "    num_samples = train_x.shape[0]\n",
    "\n",
    "    initial_acc = eval_model(test_x, test_y)\n",
    "\n",
    "    print(f\"Initial model accuracy is {initial_acc}\")\n",
    "\n",
    "    epoch_tqdm = tqdm(range(num_epochs))\n",
    "\n",
    "    for e in epoch_tqdm:\n",
    "        model.train()\n",
    "        sample_indices = torch.randperm(num_samples, dtype=torch.long)\n",
    "\n",
    "        for b_start in tqdm(range(0, num_samples, batch_size), desc=\"batch\"):\n",
    "            optimizer.zero_grad()\n",
    "            b_end = min(b_start + batch_size, num_samples)\n",
    "            b_ids = sample_indices[b_start:b_end]\n",
    "\n",
    "            batch_x = train_x[b_ids].to(device)\n",
    "            batch_y = train_y[b_ids].to(device).flatten()\n",
    "            logits = model(batch_x)\n",
    "\n",
    "            log_prob = torch.nn.functional.log_softmax(logits, dim=-1)\n",
    "            loss = batch_y * log_prob[:, 1] + (1 - batch_y) * log_prob[:, 0]\n",
    "            loss = -loss.mean()\n",
    "\n",
    "            loss.backward()\n",
    "            optimizer.step()\n",
    "\n",
    "        acc = eval_model(test_x, test_y)\n",
    "        acc_train = eval_model(train_x.to(device), train_y.to(device))\n",
    "        epoch_tqdm.set_description(\n",
    "            f\"Loss {loss.detach()} At the end of epoch {e} test accuracy is {acc} and train {acc_train}\"\n",
    "        )\n",
    "\n",
    "    return (\n",
    "        eval_model(test_x, test_y).numpy().item(),\n",
    "        eval_model(train_x.to(device), train_y.to(device)).numpy().item(),\n",
    "    )\n",
    "\n",
    "\n",
    "@torch.no_grad()\n",
    "def analyze_fairness(\n",
    "    model: torch.nn.Module,\n",
    "    test_df: pd.DataFrame,\n",
    "    protected_ids: str = PROTECTED_ATTRIBUTE,\n",
    "    target: str = TARGET,\n",
    "    remove_columns: List[str] = REMOVE,\n",
    "    device=DEVICE,\n",
    "):\n",
    "    model.eval()\n",
    "    model.to(device)\n",
    "\n",
    "    test_x, test_y = data_to_numpy(data=test_df, target=target, remove=remove_columns)\n",
    "    test_x = test_x.to(device)\n",
    "    test_y = test_y.numpy().astype(np.bool)\n",
    "\n",
    "    logits = model(test_x)\n",
    "    assert len(logits.shape) == 2\n",
    "    predictions = (logits[:, 1] > logits[:, 0]).cpu().numpy().astype(np.float32)\n",
    "\n",
    "    def calc_statistical_parity(df, predictions):\n",
    "\n",
    "        gr_a = df[protected_ids[0]].to_numpy().astype(np.bool)\n",
    "        gr_b = df[protected_ids[1]].to_numpy().astype(np.bool)\n",
    "\n",
    "        pos_a = predictions[gr_a].mean()\n",
    "        pos_b = predictions[gr_b].mean()\n",
    "\n",
    "        return np.nan_to_num(pos_a / max(pos_b, 1e-7)).item()\n",
    "\n",
    "    def calc_eq_opportunity(df, predictions, gt):\n",
    "\n",
    "        gr_a_t = np.logical_and(df[protected_ids[0]].to_numpy().astype(np.bool), gt.astype(np.bool))\n",
    "        gr_b_t = np.logical_and(df[protected_ids[1]].to_numpy().astype(np.bool), gt.astype(np.bool))\n",
    "\n",
    "        pos_a = predictions[gr_a_t].mean()\n",
    "        pos_b = predictions[gr_b_t].mean()\n",
    "\n",
    "        return np.nan_to_num(pos_a / max(pos_b, 1e-7)).item()\n",
    "\n",
    "    def calc_pred_parity(df, predictions, gt):\n",
    "        gr_a_p = np.logical_and(df[protected_ids[0]].to_numpy().astype(np.bool), predictions.astype(np.bool))\n",
    "        gr_b_p = np.logical_and(df[protected_ids[1]].to_numpy().astype(np.bool), predictions.astype(np.bool))\n",
    "\n",
    "        pos_pred_rate_parity = np.nan_to_num(\n",
    "            np.nan_to_num(gt[gr_a_p].mean().item())\n",
    "            / max(np.nan_to_num(gt[gr_b_p].mean()).item(), 1e-7)\n",
    "        )\n",
    "\n",
    "        gr_a_np = np.logical_and(\n",
    "            df[protected_ids[0]].to_numpy().astype(np.bool), np.logical_not(predictions.astype(np.bool))\n",
    "        )\n",
    "        gr_b_np = np.logical_and(\n",
    "            df[protected_ids[1]].to_numpy().astype(np.bool), np.logical_not(predictions.astype(np.bool))\n",
    "        )\n",
    "\n",
    "        neg_pred_rate_parity = np.nan_to_num(\n",
    "            np.nan_to_num(gt[gr_a_np].mean().item())\n",
    "            / max(np.nan_to_num(gt[gr_b_np].mean()).item(), 1e-7)\n",
    "        )\n",
    "\n",
    "        return pos_pred_rate_parity.item(), neg_pred_rate_parity.item()\n",
    "\n",
    "    stat_parity = calc_statistical_parity(df=test_df, predictions=predictions)\n",
    "\n",
    "    eq_opport = calc_eq_opportunity(df=test_df, predictions=predictions, gt=test_y)\n",
    "\n",
    "    pos_pred_par, neg_pred_par = calc_pred_parity(\n",
    "        df=test_df, predictions=predictions, gt=test_y\n",
    "    )\n",
    "\n",
    "    res = {\n",
    "        \"Statistical parity\": stat_parity,\n",
    "        \"Equal opportunity\": eq_opport,\n",
    "        \"Positive predictive parity\": pos_pred_par,\n",
    "        \"Negative predictive parity\": neg_pred_par,\n",
    "    }\n",
    "\n",
    "    print(json.dumps(res, indent=2))\n",
    "\n",
    "    return res"
   ]
  },
  {
   "cell_type": "markdown",
   "metadata": {},
   "source": [
    "## Part 1"
   ]
  },
  {
   "cell_type": "code",
   "execution_count": 6,
   "metadata": {},
   "outputs": [],
   "source": [
    "class SwigluBlock(torch.nn.Module):\n",
    "    def __init__(self, in_dim: int, inner_dim: int, out_dim: int):\n",
    "        super().__init__()\n",
    "\n",
    "        self.up_proj = torch.nn.Linear(\n",
    "            in_features=in_dim, out_features=inner_dim, bias=True\n",
    "        )\n",
    "        self.gate = torch.nn.Linear(\n",
    "            in_features=in_dim, out_features=inner_dim, bias=True\n",
    "        )\n",
    "        self.down_proj = torch.nn.Linear(\n",
    "            in_features=inner_dim, out_features=out_dim, bias=True\n",
    "        )\n",
    "\n",
    "    def forward(self, x: torch.Tensor):\n",
    "        u = self.up_proj(x)\n",
    "        g = self.gate(x)\n",
    "\n",
    "        y = u * torch.nn.functional.silu(g)\n",
    "        z = self.down_proj(y)\n",
    "\n",
    "        return z\n",
    "    \n",
    "\n",
    "class SimpleLinear(torch.nn.Module):\n",
    "    def __init__(self, in_dim: int, out_dim: int):\n",
    "        super().__init__()\n",
    "\n",
    "        self.proj = torch.nn.Linear(\n",
    "            in_features=in_dim, out_features=out_dim, bias=True\n",
    "        )\n",
    "        \n",
    "\n",
    "    def forward(self, x: torch.Tensor):\n",
    "\n",
    "        return self.proj(x)\n"
   ]
  },
  {
   "cell_type": "code",
   "execution_count": 7,
   "metadata": {},
   "outputs": [
    {
     "name": "stdout",
     "output_type": "stream",
     "text": [
      "Model 0\n",
      "Initial model accuracy is 0.23622627556324005\n"
     ]
    },
    {
     "name": "stderr",
     "output_type": "stream",
     "text": [
      "batch: 100%|██████████| 509/509 [00:00<00:00, 575.88it/s]\n",
      "batch: 100%|██████████| 509/509 [00:01<00:00, 470.69it/s]cy is 0.23622627556324005 and train 0.759374737739563:  33%|███▎      | 1/3 [00:00<00:01,  1.11it/s]\n",
      "batch: 100%|██████████| 509/509 [00:00<00:00, 596.33it/s]cy is 0.7747681140899658 and train 0.7602346539497375:  67%|██████▋   | 2/3 [00:01<00:01,  1.02s/it]\n",
      "Loss 0.393289715051651 At the end of epoch 2 test accuracy is 0.7715128064155579 and train 0.7660084366798401: 100%|██████████| 3/3 [00:02<00:00,  1.04it/s] \n"
     ]
    },
    {
     "name": "stdout",
     "output_type": "stream",
     "text": [
      "{\n",
      "  \"Statistical parity\": 0.3557297885417938,\n",
      "  \"Equal opportunity\": 0.9799462556838989,\n",
      "  \"Positive predictive parity\": 1.0,\n",
      "  \"Negative predictive parity\": 0.36094290848137467\n",
      "}\n",
      "Model 1\n",
      "Initial model accuracy is 0.7637737393379211\n"
     ]
    },
    {
     "name": "stderr",
     "output_type": "stream",
     "text": [
      "batch: 100%|██████████| 509/509 [00:00<00:00, 676.68it/s]\n",
      "batch: 100%|██████████| 509/509 [00:00<00:00, 532.73it/s]y is 0.7638965845108032 and train 0.759466826915741:  33%|███▎      | 1/3 [00:00<00:01,  1.30it/s]\n",
      "batch: 100%|██████████| 509/509 [00:00<00:00, 652.31it/s]acy is 0.7643265128135681 and train 0.7610945701599121:  67%|██████▋   | 2/3 [00:01<00:00,  1.12it/s]\n",
      "Loss 0.4660312533378601 At the end of epoch 2 test accuracy is 0.7643879652023315 and train 0.7725499868392944: 100%|██████████| 3/3 [00:02<00:00,  1.18it/s] \n",
      "/tmp/ipykernel_11675/2636794302.py:138: RuntimeWarning: Mean of empty slice.\n",
      "  np.nan_to_num(gt[gr_a_p].mean().item())\n",
      "/home/skonrad/Arbeit/eXplainableMachineLearning-2025/.venv/lib/python3.12/site-packages/numpy/_core/_methods.py:147: RuntimeWarning: invalid value encountered in scalar divide\n",
      "  ret = ret.dtype.type(ret / rcount)\n"
     ]
    },
    {
     "name": "stdout",
     "output_type": "stream",
     "text": [
      "{\n",
      "  \"Statistical parity\": 0.0,\n",
      "  \"Equal opportunity\": 0.0,\n",
      "  \"Positive predictive parity\": 0.0,\n",
      "  \"Negative predictive parity\": 0.363792571800657\n",
      "}\n",
      "Model 2\n",
      "Initial model accuracy is 0.23622627556324005\n"
     ]
    },
    {
     "name": "stderr",
     "output_type": "stream",
     "text": [
      "batch: 100%|██████████| 509/509 [00:00<00:00, 757.12it/s]\n",
      "batch: 100%|██████████| 509/509 [00:00<00:00, 634.98it/s]cy is 0.765677809715271 and train 0.7591904401779175:  33%|███▎      | 1/3 [00:00<00:01,  1.46it/s]\n",
      "batch: 100%|██████████| 509/509 [00:00<00:00, 624.37it/s]acy is 0.7660462856292725 and train 0.7594975829124451:  67%|██████▋   | 2/3 [00:01<00:00,  1.31it/s]\n",
      "Loss 0.4865451753139496 At the end of epoch 2 test accuracy is 0.7662919759750366 and train 0.7654862999916077: 100%|██████████| 3/3 [00:02<00:00,  1.28it/s] \n"
     ]
    },
    {
     "name": "stdout",
     "output_type": "stream",
     "text": [
      "{\n",
      "  \"Statistical parity\": 0.41244831681251526,\n",
      "  \"Equal opportunity\": 1.1361913681030273,\n",
      "  \"Positive predictive parity\": 1.0,\n",
      "  \"Negative predictive parity\": 0.3618201838716416\n",
      "}\n",
      "Model 3\n",
      "Initial model accuracy is 0.3720901608467102\n"
     ]
    },
    {
     "name": "stderr",
     "output_type": "stream",
     "text": [
      "batch: 100%|██████████| 509/509 [00:00<00:00, 640.26it/s]\n",
      "batch: 100%|██████████| 509/509 [00:01<00:00, 380.22it/s]cy is 0.7668448090553284 and train 0.7592211365699768:  33%|███▎      | 1/3 [00:00<00:01,  1.24it/s]\n",
      "batch: 100%|██████████| 509/509 [00:01<00:00, 433.44it/s]cy is 0.7667833566665649 and train 0.7596818208694458:  67%|██████▋   | 2/3 [00:02<00:01,  1.13s/it]\n",
      "Loss 0.4607338309288025 At the end of epoch 2 test accuracy is 0.766906201839447 and train 0.7631215453147888: 100%|██████████| 3/3 [00:03<00:00,  1.12s/it] \n"
     ]
    },
    {
     "name": "stdout",
     "output_type": "stream",
     "text": [
      "{\n",
      "  \"Statistical parity\": 0.3727107644081116,\n",
      "  \"Equal opportunity\": 1.0267244577407837,\n",
      "  \"Positive predictive parity\": 1.0,\n",
      "  \"Negative predictive parity\": 0.3619770711412837\n",
      "}\n",
      "Model 4\n",
      "Initial model accuracy is 0.23622627556324005\n"
     ]
    },
    {
     "name": "stderr",
     "output_type": "stream",
     "text": [
      "batch: 100%|██████████| 509/509 [00:01<00:00, 412.48it/s]\n",
      "batch: 100%|██████████| 509/509 [00:01<00:00, 503.75it/s]cy is 0.7761194109916687 and train 0.7599582076072693:  33%|███▎      | 1/3 [00:01<00:02,  1.25s/it]\n",
      "batch: 100%|██████████| 509/509 [00:00<00:00, 549.26it/s]cy is 0.7707143425941467 and train 0.7606953382492065:  67%|██████▋   | 2/3 [00:02<00:01,  1.12s/it]\n",
      "Loss 0.47550061345100403 At the end of epoch 2 test accuracy is 0.7697315812110901 and train 0.7657627463340759: 100%|██████████| 3/3 [00:03<00:00,  1.07s/it]\n"
     ]
    },
    {
     "name": "stdout",
     "output_type": "stream",
     "text": [
      "{\n",
      "  \"Statistical parity\": 0.31003767251968384,\n",
      "  \"Equal opportunity\": 0.8540758490562439,\n",
      "  \"Positive predictive parity\": 1.0,\n",
      "  \"Negative predictive parity\": 0.3624628778438556\n",
      "}\n",
      "Model 5\n",
      "Initial model accuracy is 0.7685645818710327\n"
     ]
    },
    {
     "name": "stderr",
     "output_type": "stream",
     "text": [
      "batch: 100%|██████████| 509/509 [00:00<00:00, 559.75it/s]\n",
      "batch: 100%|██████████| 509/509 [00:01<00:00, 313.72it/s]cy is 0.7659848928451538 and train 0.7610331177711487:  33%|███▎      | 1/3 [00:00<00:01,  1.08it/s]\n",
      "batch: 100%|██████████| 509/509 [00:01<00:00, 367.00it/s]acy is 0.7661077380180359 and train 0.7623844742774963:  67%|██████▋   | 2/3 [00:02<00:01,  1.36s/it]\n",
      "Loss 0.47792357206344604 At the end of epoch 2 test accuracy is 0.7664762735366821 and train 0.7690488696098328: 100%|██████████| 3/3 [00:04<00:00,  1.33s/it]\n"
     ]
    },
    {
     "name": "stdout",
     "output_type": "stream",
     "text": [
      "{\n",
      "  \"Statistical parity\": 0.379006564617157,\n",
      "  \"Equal opportunity\": 1.0440677404403687,\n",
      "  \"Positive predictive parity\": 1.0,\n",
      "  \"Negative predictive parity\": 0.3620570304709764\n",
      "}\n",
      "Model 6\n",
      "Initial model accuracy is 0.765677809715271\n"
     ]
    },
    {
     "name": "stderr",
     "output_type": "stream",
     "text": [
      "batch: 100%|██████████| 509/509 [00:01<00:00, 374.71it/s]\n",
      "batch: 100%|██████████| 509/509 [00:00<00:00, 525.61it/s]cy is 0.7652478218078613 and train 0.7594361305236816:  33%|███▎      | 1/3 [00:01<00:02,  1.38s/it]\n",
      "batch: 100%|██████████| 509/509 [00:01<00:00, 395.23it/s]cy is 0.7655549645423889 and train 0.7611867189407349:  67%|██████▋   | 2/3 [00:02<00:01,  1.15s/it]\n",
      "Loss 0.48946714401245117 At the end of epoch 2 test accuracy is 0.7660462856292725 and train 0.7693559527397156: 100%|██████████| 3/3 [00:03<00:00,  1.22s/it]\n"
     ]
    },
    {
     "name": "stdout",
     "output_type": "stream",
     "text": [
      "{\n",
      "  \"Statistical parity\": 0.3877394497394562,\n",
      "  \"Equal opportunity\": 1.0681246519088745,\n",
      "  \"Positive predictive parity\": 1.0,\n",
      "  \"Negative predictive parity\": 0.36213710121897974\n",
      "}\n",
      "Model 7\n",
      "Initial model accuracy is 0.23063693940639496\n"
     ]
    },
    {
     "name": "stderr",
     "output_type": "stream",
     "text": [
      "batch: 100%|██████████| 509/509 [00:00<00:00, 530.25it/s]\n",
      "batch: 100%|██████████| 509/509 [00:00<00:00, 601.02it/s]cy is 0.7641422748565674 and train 0.7631215453147888:  33%|███▎      | 1/3 [00:00<00:01,  1.02it/s]\n",
      "batch: 100%|██████████| 509/509 [00:01<00:00, 449.36it/s]cy is 0.7645722031593323 and train 0.7638586163520813:  67%|██████▋   | 2/3 [00:01<00:00,  1.10it/s]\n",
      "Loss 0.46921446919441223 At the end of epoch 2 test accuracy is 0.7652478218078613 and train 0.7695402503013611: 100%|██████████| 3/3 [00:02<00:00,  1.00it/s]\n"
     ]
    },
    {
     "name": "stdout",
     "output_type": "stream",
     "text": [
      "{\n",
      "  \"Statistical parity\": 0.18212004005908966,\n",
      "  \"Equal opportunity\": 0.501694917678833,\n",
      "  \"Positive predictive parity\": 1.0,\n",
      "  \"Negative predictive parity\": 0.36363636363636365\n",
      "}\n",
      "Model 8\n",
      "Initial model accuracy is 0.23475216329097748\n"
     ]
    },
    {
     "name": "stderr",
     "output_type": "stream",
     "text": [
      "batch: 100%|██████████| 509/509 [00:00<00:00, 514.07it/s]\n",
      "batch: 100%|██████████| 509/509 [00:01<00:00, 351.42it/s]cy is 0.7643879652023315 and train 0.7559964656829834:  33%|███▎      | 1/3 [00:01<00:02,  1.00s/it]\n",
      "batch: 100%|██████████| 509/509 [00:01<00:00, 376.57it/s]cy is 0.7650021314620972 and train 0.7594054341316223:  67%|██████▋   | 2/3 [00:02<00:01,  1.28s/it]\n",
      "Loss 0.4808824956417084 At the end of epoch 2 test accuracy is 0.7657392024993896 and train 0.7616166472434998: 100%|██████████| 3/3 [00:03<00:00,  1.28s/it]\n"
     ]
    },
    {
     "name": "stdout",
     "output_type": "stream",
     "text": [
      "{\n",
      "  \"Statistical parity\": 0.2072400450706482,\n",
      "  \"Equal opportunity\": 0.5708942413330078,\n",
      "  \"Positive predictive parity\": 1.0,\n",
      "  \"Negative predictive parity\": 0.36363752314559816\n",
      "}\n",
      "Model 9\n",
      "Initial model accuracy is 0.23475216329097748\n"
     ]
    },
    {
     "name": "stderr",
     "output_type": "stream",
     "text": [
      "batch: 100%|██████████| 509/509 [00:01<00:00, 472.46it/s]\n",
      "batch: 100%|██████████| 509/509 [00:00<00:00, 536.77it/s]cy is 0.23180393874645233 and train 0.7590062022209167:  33%|███▎      | 1/3 [00:01<00:02,  1.09s/it]\n",
      "batch: 100%|██████████| 509/509 [00:00<00:00, 705.94it/s]acy is 0.7657392024993896 and train 0.760388195514679:  67%|██████▋   | 2/3 [00:02<00:01,  1.01s/it] \n",
      "Loss 0.3731554448604584 At the end of epoch 2 test accuracy is 0.7667833566665649 and train 0.7670833468437195: 100%|██████████| 3/3 [00:02<00:00,  1.08it/s]\n"
     ]
    },
    {
     "name": "stdout",
     "output_type": "stream",
     "text": [
      "{\n",
      "  \"Statistical parity\": 0.39089176058769226,\n",
      "  \"Equal opportunity\": 1.0768085718154907,\n",
      "  \"Positive predictive parity\": 1.0,\n",
      "  \"Negative predictive parity\": 0.361818776811426\n",
      "}\n"
     ]
    }
   ],
   "source": [
    "exp1_fairness_data = {\"Train Accuracy\": [], \"Test Accuracy\": []}\n",
    "torch.manual_seed(42)\n",
    "for i in range(10):\n",
    "    print(f\"Model {i}\")\n",
    "    model = SimpleLinear(in_dim=103, out_dim=2)\n",
    "    model.to(DEVICE)\n",
    "    optim = torch.optim.AdamW(params=model.parameters(), lr=1e-4, weight_decay=0.1)\n",
    "\n",
    "    final_acc_test, final_acc_train = train(\n",
    "        model=model,\n",
    "        optimizer=optim,\n",
    "        train_df=train_df,\n",
    "        test_df=test_df,\n",
    "        num_epochs=3,\n",
    "        batch_size=64,\n",
    "        device=DEVICE,\n",
    "    )\n",
    "    res = analyze_fairness(model=model, test_df=test_df)\n",
    "    for k, v in res.items():\n",
    "        if k not in exp1_fairness_data:\n",
    "            exp1_fairness_data[k] = []\n",
    "        exp1_fairness_data[k].append(v)\n",
    "    exp1_fairness_data[\"Test Accuracy\"].append(final_acc_test)\n",
    "    exp1_fairness_data[\"Train Accuracy\"].append(final_acc_train)"
   ]
  },
  {
   "cell_type": "markdown",
   "metadata": {},
   "source": []
  },
  {
   "cell_type": "code",
   "execution_count": 8,
   "metadata": {},
   "outputs": [
    {
     "name": "stdout",
     "output_type": "stream",
     "text": [
      "Model 0\n",
      "Initial model accuracy is 0.7637737393379211\n"
     ]
    },
    {
     "name": "stderr",
     "output_type": "stream",
     "text": [
      "batch: 100%|██████████| 509/509 [00:01<00:00, 276.40it/s]\n",
      "batch: 100%|██████████| 509/509 [00:01<00:00, 381.45it/s]cy is 0.7691788077354431 and train 0.8200300931930542:  33%|███▎      | 1/3 [00:02<00:04,  2.00s/it]\n",
      "batch: 100%|██████████| 509/509 [00:01<00:00, 341.96it/s]acy is 0.7733554244041443 and train 0.8324990272521973:  67%|██████▋   | 2/3 [00:03<00:01,  1.75s/it]\n",
      "Loss 0.29611343145370483 At the end of epoch 2 test accuracy is 0.7790061831474304 and train 0.8356316089630127: 100%|██████████| 3/3 [00:05<00:00,  1.78s/it]\n"
     ]
    },
    {
     "name": "stdout",
     "output_type": "stream",
     "text": [
      "{\n",
      "  \"Statistical parity\": 0.5047736167907715,\n",
      "  \"Equal opportunity\": 1.1842584609985352,\n",
      "  \"Positive predictive parity\": 0.8516630901287553,\n",
      "  \"Negative predictive parity\": 0.35365971210329417\n",
      "}\n",
      "Model 1\n",
      "Initial model accuracy is 0.77501380443573\n"
     ]
    },
    {
     "name": "stderr",
     "output_type": "stream",
     "text": [
      "batch: 100%|██████████| 509/509 [00:01<00:00, 386.36it/s]\n",
      "batch: 100%|██████████| 509/509 [00:01<00:00, 375.33it/s]acy is 0.7693630456924438 and train 0.8216270804405212:  33%|███▎      | 1/3 [00:01<00:02,  1.48s/it]\n",
      "batch: 100%|██████████| 509/509 [00:01<00:00, 328.26it/s]cy is 0.7739696502685547 and train 0.8326218724250793:  67%|██████▋   | 2/3 [00:03<00:01,  1.51s/it] \n",
      "Loss 0.5410016775131226 At the end of epoch 2 test accuracy is 0.7809102535247803 and train 0.8350480794906616: 100%|██████████| 3/3 [00:04<00:00,  1.59s/it]\n"
     ]
    },
    {
     "name": "stdout",
     "output_type": "stream",
     "text": [
      "{\n",
      "  \"Statistical parity\": 0.5061020255088806,\n",
      "  \"Equal opportunity\": 1.2052210569381714,\n",
      "  \"Positive predictive parity\": 0.8644636015325671,\n",
      "  \"Negative predictive parity\": 0.351834287281944\n",
      "}\n",
      "Model 2\n",
      "Initial model accuracy is 0.7694244980812073\n"
     ]
    },
    {
     "name": "stderr",
     "output_type": "stream",
     "text": [
      "batch: 100%|██████████| 509/509 [00:01<00:00, 394.18it/s]\n",
      "batch: 100%|██████████| 509/509 [00:01<00:00, 393.33it/s]acy is 0.766906201839447 and train 0.8198150992393494:  33%|███▎      | 1/3 [00:01<00:02,  1.46s/it]\n",
      "batch: 100%|██████████| 509/509 [00:01<00:00, 290.49it/s]cy is 0.7704071998596191 and train 0.8321918845176697:  67%|██████▋   | 2/3 [00:02<00:01,  1.46s/it]\n",
      "Loss 0.29967764019966125 At the end of epoch 2 test accuracy is 0.7732325792312622 and train 0.8353859186172485: 100%|██████████| 3/3 [00:04<00:00,  1.64s/it]\n"
     ]
    },
    {
     "name": "stdout",
     "output_type": "stream",
     "text": [
      "{\n",
      "  \"Statistical parity\": 0.4006640911102295,\n",
      "  \"Equal opportunity\": 1.0870057344436646,\n",
      "  \"Positive predictive parity\": 0.9848484848484849,\n",
      "  \"Negative predictive parity\": 0.35896692725876955\n",
      "}\n",
      "Model 3\n",
      "Initial model accuracy is 0.7637737393379211\n"
     ]
    },
    {
     "name": "stderr",
     "output_type": "stream",
     "text": [
      "batch: 100%|██████████| 509/509 [00:01<00:00, 320.12it/s]\n",
      "batch: 100%|██████████| 509/509 [00:01<00:00, 328.70it/s]acy is 0.7680118083953857 and train 0.8253124952316284:  33%|███▎      | 1/3 [00:01<00:03,  1.77s/it]\n",
      "batch: 100%|██████████| 509/509 [00:01<00:00, 378.82it/s]acy is 0.7712671160697937 and train 0.8328061103820801:  67%|██████▋   | 2/3 [00:03<00:01,  1.74s/it]\n",
      "Loss 0.3732415437698364 At the end of epoch 2 test accuracy is 0.773908257484436 and train 0.8354166150093079: 100%|██████████| 3/3 [00:05<00:00,  1.67s/it]  \n"
     ]
    },
    {
     "name": "stdout",
     "output_type": "stream",
     "text": [
      "{\n",
      "  \"Statistical parity\": 0.42454472184181213,\n",
      "  \"Equal opportunity\": 1.0583701133728027,\n",
      "  \"Positive predictive parity\": 0.9049657534246575,\n",
      "  \"Negative predictive parity\": 0.3591010388554988\n",
      "}\n",
      "Model 4\n",
      "Initial model accuracy is 0.7637737393379211\n"
     ]
    },
    {
     "name": "stderr",
     "output_type": "stream",
     "text": [
      "batch: 100%|██████████| 509/509 [00:01<00:00, 356.39it/s]\n",
      "batch: 100%|██████████| 509/509 [00:01<00:00, 388.83it/s]cy is 0.7653706669807434 and train 0.8245139718055725:  33%|███▎      | 1/3 [00:01<00:03,  1.60s/it]\n",
      "batch: 100%|██████████| 509/509 [00:01<00:00, 382.67it/s]acy is 0.769608736038208 and train 0.832130491733551:  67%|██████▋   | 2/3 [00:03<00:01,  1.56s/it] \n",
      "Loss 0.43455374240875244 At the end of epoch 2 test accuracy is 0.772986888885498 and train 0.8351094722747803: 100%|██████████| 3/3 [00:04<00:00,  1.54s/it]\n"
     ]
    },
    {
     "name": "stdout",
     "output_type": "stream",
     "text": [
      "{\n",
      "  \"Statistical parity\": 0.41289809346199036,\n",
      "  \"Equal opportunity\": 1.1209745407104492,\n",
      "  \"Positive predictive parity\": 0.9855324074074074,\n",
      "  \"Negative predictive parity\": 0.35864159950385344\n",
      "}\n",
      "Model 5\n",
      "Initial model accuracy is 0.23469074070453644\n"
     ]
    },
    {
     "name": "stderr",
     "output_type": "stream",
     "text": [
      "batch: 100%|██████████| 509/509 [00:01<00:00, 385.31it/s]\n",
      "batch: 100%|██████████| 509/509 [00:01<00:00, 378.04it/s]acy is 0.7657392024993896 and train 0.8171738982200623:  33%|███▎      | 1/3 [00:01<00:03,  1.58s/it]\n",
      "batch: 100%|██████████| 509/509 [00:01<00:00, 358.02it/s]acy is 0.7716970443725586 and train 0.8320383429527283:  67%|██████▋   | 2/3 [00:03<00:01,  1.54s/it]\n",
      "Loss 0.5593229532241821 At the end of epoch 2 test accuracy is 0.7769793272018433 and train 0.8353244662284851: 100%|██████████| 3/3 [00:04<00:00,  1.56s/it] \n"
     ]
    },
    {
     "name": "stdout",
     "output_type": "stream",
     "text": [
      "{\n",
      "  \"Statistical parity\": 0.47567427158355713,\n",
      "  \"Equal opportunity\": 1.1865085363388062,\n",
      "  \"Positive predictive parity\": 0.9054807692307693,\n",
      "  \"Negative predictive parity\": 0.3547504995226621\n",
      "}\n",
      "Model 6\n",
      "Initial model accuracy is 0.23505927622318268\n"
     ]
    },
    {
     "name": "stderr",
     "output_type": "stream",
     "text": [
      "batch: 100%|██████████| 509/509 [00:01<00:00, 378.68it/s]\n",
      "batch: 100%|██████████| 509/509 [00:01<00:00, 395.22it/s]cy is 0.7667219638824463 and train 0.8246675729751587:  33%|███▎      | 1/3 [00:01<00:03,  1.58s/it]\n",
      "batch: 100%|██████████| 509/509 [00:01<00:00, 383.84it/s]acy is 0.7724955677986145 and train 0.8326218724250793:  67%|██████▋   | 2/3 [00:03<00:01,  1.50s/it]\n",
      "Loss 0.3721742331981659 At the end of epoch 2 test accuracy is 0.7788833379745483 and train 0.8348944783210754: 100%|██████████| 3/3 [00:04<00:00,  1.51s/it] \n"
     ]
    },
    {
     "name": "stdout",
     "output_type": "stream",
     "text": [
      "{\n",
      "  \"Statistical parity\": 0.4907732903957367,\n",
      "  \"Equal opportunity\": 1.1808452606201172,\n",
      "  \"Positive predictive parity\": 0.8734340325005369,\n",
      "  \"Negative predictive parity\": 0.353815104359274\n",
      "}\n",
      "Model 7\n",
      "Initial model accuracy is 0.23505927622318268\n"
     ]
    },
    {
     "name": "stderr",
     "output_type": "stream",
     "text": [
      "batch: 100%|██████████| 509/509 [00:01<00:00, 376.95it/s]\n",
      "batch: 100%|██████████| 509/509 [00:01<00:00, 379.38it/s]cy is 0.7694244980812073 and train 0.8196308612823486:  33%|███▎      | 1/3 [00:01<00:03,  1.58s/it]\n",
      "batch: 100%|██████████| 509/509 [00:01<00:00, 318.55it/s]acy is 0.7747067213058472 and train 0.8320690393447876:  67%|██████▋   | 2/3 [00:03<00:01,  1.55s/it]\n",
      "Loss 0.42755788564682007 At the end of epoch 2 test accuracy is 0.7867453098297119 and train 0.8348637819290161: 100%|██████████| 3/3 [00:04<00:00,  1.63s/it]\n"
     ]
    },
    {
     "name": "stdout",
     "output_type": "stream",
     "text": [
      "{\n",
      "  \"Statistical parity\": 0.5256236791610718,\n",
      "  \"Equal opportunity\": 1.2010271549224854,\n",
      "  \"Positive predictive parity\": 0.829460990695982,\n",
      "  \"Negative predictive parity\": 0.3474839680170028\n",
      "}\n",
      "Model 8\n",
      "Initial model accuracy is 0.23622627556324005\n"
     ]
    },
    {
     "name": "stderr",
     "output_type": "stream",
     "text": [
      "batch: 100%|██████████| 509/509 [00:01<00:00, 285.92it/s]\n",
      "batch: 100%|██████████| 509/509 [00:01<00:00, 379.09it/s]cy is 0.769608736038208 and train 0.8238997459411621:  33%|███▎      | 1/3 [00:01<00:03,  1.95s/it]\n",
      "batch: 100%|██████████| 509/509 [00:01<00:00, 376.28it/s]acy is 0.7765493392944336 and train 0.8323147296905518:  67%|██████▋   | 2/3 [00:03<00:01,  1.69s/it]\n",
      "Loss 0.2896631956100464 At the end of epoch 2 test accuracy is 0.7874823212623596 and train 0.8353859186172485: 100%|██████████| 3/3 [00:04<00:00,  1.66s/it] \n"
     ]
    },
    {
     "name": "stdout",
     "output_type": "stream",
     "text": [
      "{\n",
      "  \"Statistical parity\": 0.5348671078681946,\n",
      "  \"Equal opportunity\": 1.2346292734146118,\n",
      "  \"Positive predictive parity\": 0.8379318794413133,\n",
      "  \"Negative predictive parity\": 0.3457156217744996\n",
      "}\n",
      "Model 9\n",
      "Initial model accuracy is 0.23395368456840515\n"
     ]
    },
    {
     "name": "stderr",
     "output_type": "stream",
     "text": [
      "batch: 100%|██████████| 509/509 [00:01<00:00, 396.19it/s]\n",
      "batch: 100%|██████████| 509/509 [00:01<00:00, 394.44it/s]cy is 0.7670904994010925 and train 0.8229169845581055:  33%|███▎      | 1/3 [00:01<00:02,  1.45s/it]\n",
      "batch: 100%|██████████| 509/509 [00:01<00:00, 338.87it/s]cy is 0.7707143425941467 and train 0.832130491733551:  67%|██████▋   | 2/3 [00:02<00:01,  1.46s/it] \n",
      "Loss 0.2629174590110779 At the end of epoch 2 test accuracy is 0.7739696502685547 and train 0.835201621055603: 100%|██████████| 3/3 [00:04<00:00,  1.53s/it]\n"
     ]
    },
    {
     "name": "stdout",
     "output_type": "stream",
     "text": [
      "{\n",
      "  \"Statistical parity\": 0.411277711391449,\n",
      "  \"Equal opportunity\": 1.0583701133728027,\n",
      "  \"Positive predictive parity\": 0.9341581970835173,\n",
      "  \"Negative predictive parity\": 0.35903441528613783\n",
      "}\n"
     ]
    }
   ],
   "source": [
    "exp2_fairness_data = {\"Train Accuracy\": [], \"Test Accuracy\": []}\n",
    "torch.manual_seed(42)\n",
    "for i in range(10):\n",
    "    print(f\"Model {i}\")\n",
    "    model = SwigluBlock(in_dim=103, inner_dim=256, out_dim=2)\n",
    "    model.to(DEVICE)\n",
    "    optim = torch.optim.AdamW(params=model.parameters(), lr=1e-4, weight_decay=0.0)\n",
    "\n",
    "    final_acc_test, final_acc_train = train(\n",
    "        model=model,\n",
    "        optimizer=optim,\n",
    "        train_df=train_df,\n",
    "        test_df=test_df,\n",
    "        num_epochs=3,\n",
    "        batch_size=64,\n",
    "        device=DEVICE,\n",
    "    )\n",
    "    res = analyze_fairness(model=model, test_df=test_df)\n",
    "    for k, v in res.items():\n",
    "        if k not in exp2_fairness_data:\n",
    "            exp2_fairness_data[k] = []\n",
    "        exp2_fairness_data[k].append(v)\n",
    "    exp2_fairness_data[\"Test Accuracy\"].append(final_acc_test)\n",
    "    exp2_fairness_data[\"Train Accuracy\"].append(final_acc_train)"
   ]
  },
  {
   "cell_type": "code",
   "execution_count": 9,
   "metadata": {},
   "outputs": [
    {
     "name": "stdout",
     "output_type": "stream",
     "text": [
      "Model 0\n",
      "Initial model accuracy is 0.23622627556324005\n"
     ]
    },
    {
     "name": "stderr",
     "output_type": "stream",
     "text": [
      "batch: 100%|██████████| 56/56 [00:00<00:00, 764.70it/s]\n",
      "batch: 100%|██████████| 56/56 [00:00<00:00, 753.75it/s]racy is 0.23622627556324005 and train 0.6454622745513916:   0%|          | 0/3 [00:00<?, ?it/s]\n",
      "batch: 100%|██████████| 56/56 [00:00<00:00, 788.13it/s]racy is 0.23622627556324005 and train 0.6621430516242981:  67%|██████▋   | 2/3 [00:00<00:00, 12.28it/s]\n",
      "Loss 0.6261046528816223 At the end of epoch 2 test accuracy is 0.23622627556324005 and train 0.6666666865348816: 100%|██████████| 3/3 [00:00<00:00, 12.34it/s]\n",
      "/tmp/ipykernel_11675/2636794302.py:150: RuntimeWarning: Mean of empty slice.\n",
      "  np.nan_to_num(gt[gr_a_np].mean().item())\n",
      "/home/skonrad/Arbeit/eXplainableMachineLearning-2025/.venv/lib/python3.12/site-packages/numpy/_core/_methods.py:147: RuntimeWarning: invalid value encountered in scalar divide\n",
      "  ret = ret.dtype.type(ret / rcount)\n",
      "/tmp/ipykernel_11675/2636794302.py:151: RuntimeWarning: Mean of empty slice.\n",
      "  / max(np.nan_to_num(gt[gr_b_np].mean()).item(), 1e-7)\n"
     ]
    },
    {
     "name": "stdout",
     "output_type": "stream",
     "text": [
      "{\n",
      "  \"Statistical parity\": 1.0,\n",
      "  \"Equal opportunity\": 1.0,\n",
      "  \"Positive predictive parity\": 0.36300953567140615,\n",
      "  \"Negative predictive parity\": 0.0\n",
      "}\n",
      "Model 1\n",
      "Initial model accuracy is 0.7637737393379211\n"
     ]
    },
    {
     "name": "stderr",
     "output_type": "stream",
     "text": [
      "batch: 100%|██████████| 56/56 [00:00<00:00, 819.67it/s]\n",
      "batch: 100%|██████████| 56/56 [00:00<00:00, 817.92it/s]racy is 0.7637737393379211 and train 0.4195646047592163:   0%|          | 0/3 [00:00<?, ?it/s]\n",
      "batch: 100%|██████████| 56/56 [00:00<00:00, 774.84it/s]racy is 0.7637737393379211 and train 0.5253039002418518:  67%|██████▋   | 2/3 [00:00<00:00, 13.26it/s]\n",
      "Loss 0.6877762079238892 At the end of epoch 2 test accuracy is 0.7637737393379211 and train 0.6618603467941284: 100%|██████████| 3/3 [00:00<00:00, 12.96it/s]\n",
      "/tmp/ipykernel_11675/2636794302.py:138: RuntimeWarning: Mean of empty slice.\n",
      "  np.nan_to_num(gt[gr_a_p].mean().item())\n",
      "/home/skonrad/Arbeit/eXplainableMachineLearning-2025/.venv/lib/python3.12/site-packages/numpy/_core/_methods.py:147: RuntimeWarning: invalid value encountered in scalar divide\n",
      "  ret = ret.dtype.type(ret / rcount)\n",
      "/tmp/ipykernel_11675/2636794302.py:139: RuntimeWarning: Mean of empty slice.\n",
      "  / max(np.nan_to_num(gt[gr_b_p].mean()).item(), 1e-7)\n"
     ]
    },
    {
     "name": "stdout",
     "output_type": "stream",
     "text": [
      "{\n",
      "  \"Statistical parity\": 0.0,\n",
      "  \"Equal opportunity\": 0.0,\n",
      "  \"Positive predictive parity\": 0.0,\n",
      "  \"Negative predictive parity\": 0.36300953567140615\n",
      "}\n",
      "Model 2\n",
      "Initial model accuracy is 0.23303237557411194\n"
     ]
    },
    {
     "name": "stderr",
     "output_type": "stream",
     "text": [
      "batch: 100%|██████████| 56/56 [00:00<00:00, 844.16it/s]\n",
      "batch: 100%|██████████| 56/56 [00:00<00:00, 829.42it/s]acy is 0.23260241746902466 and train 0.7037037014961243:   0%|          | 0/3 [00:00<?, ?it/s]\n",
      "batch: 100%|██████████| 56/56 [00:00<00:00, 740.55it/s]racy is 0.23198820650577545 and train 0.7178399562835693:  67%|██████▋   | 2/3 [00:00<00:00, 13.56it/s]\n",
      "Loss 0.594783365726471 At the end of epoch 2 test accuracy is 0.23125115036964417 and train 0.7251908183097839: 100%|██████████| 3/3 [00:00<00:00, 12.94it/s] \n"
     ]
    },
    {
     "name": "stdout",
     "output_type": "stream",
     "text": [
      "{\n",
      "  \"Statistical parity\": 1.0038877725601196,\n",
      "  \"Equal opportunity\": 0.9988261461257935,\n",
      "  \"Positive predictive parity\": 0.36117921866763675,\n",
      "  \"Negative predictive parity\": 1.0\n",
      "}\n",
      "Model 3\n",
      "Initial model accuracy is 0.235857754945755\n"
     ]
    },
    {
     "name": "stderr",
     "output_type": "stream",
     "text": [
      "batch: 100%|██████████| 56/56 [00:00<00:00, 822.62it/s]\n",
      "batch: 100%|██████████| 56/56 [00:00<00:00, 789.84it/s]racy is 0.235857754945755 and train 0.601357102394104:   0%|          | 0/3 [00:00<?, ?it/s]\n",
      "batch: 100%|██████████| 56/56 [00:00<00:00, 743.25it/s]racy is 0.23604200780391693 and train 0.6375459432601929:  67%|██████▋   | 2/3 [00:00<00:00, 13.02it/s]\n",
      "Loss 0.6297588348388672 At the end of epoch 2 test accuracy is 0.236164852976799 and train 0.6590330600738525: 100%|██████████| 3/3 [00:00<00:00, 12.66it/s]  \n",
      "/tmp/ipykernel_11675/2636794302.py:150: RuntimeWarning: Mean of empty slice.\n",
      "  np.nan_to_num(gt[gr_a_np].mean().item())\n",
      "/home/skonrad/Arbeit/eXplainableMachineLearning-2025/.venv/lib/python3.12/site-packages/numpy/_core/_methods.py:147: RuntimeWarning: invalid value encountered in scalar divide\n",
      "  ret = ret.dtype.type(ret / rcount)\n"
     ]
    },
    {
     "name": "stdout",
     "output_type": "stream",
     "text": [
      "{\n",
      "  \"Statistical parity\": 1.0000921487808228,\n",
      "  \"Equal opportunity\": 1.0003072023391724,\n",
      "  \"Positive predictive parity\": 0.36308762277664575,\n",
      "  \"Negative predictive parity\": 0.0\n",
      "}\n",
      "Model 4\n",
      "Initial model accuracy is 0.22209937870502472\n"
     ]
    },
    {
     "name": "stderr",
     "output_type": "stream",
     "text": [
      "batch: 100%|██████████| 56/56 [00:00<00:00, 818.06it/s]\n",
      "batch: 100%|██████████| 56/56 [00:00<00:00, 733.60it/s]racy is 0.20459431409835815 and train 0.6844783425331116:   0%|          | 0/3 [00:00<?, ?it/s]\n",
      "batch: 100%|██████████| 56/56 [00:00<00:00, 809.32it/s]racy is 0.7637122869491577 and train 0.7480915784835815:  67%|██████▋   | 2/3 [00:00<00:00, 12.51it/s]\n",
      "Loss 0.6101513504981995 At the end of epoch 2 test accuracy is 0.7637737393379211 and train 0.7777777910232544: 100%|██████████| 3/3 [00:00<00:00, 12.62it/s]\n",
      "/tmp/ipykernel_11675/2636794302.py:138: RuntimeWarning: Mean of empty slice.\n",
      "  np.nan_to_num(gt[gr_a_p].mean().item())\n",
      "/home/skonrad/Arbeit/eXplainableMachineLearning-2025/.venv/lib/python3.12/site-packages/numpy/_core/_methods.py:147: RuntimeWarning: invalid value encountered in scalar divide\n",
      "  ret = ret.dtype.type(ret / rcount)\n",
      "/tmp/ipykernel_11675/2636794302.py:139: RuntimeWarning: Mean of empty slice.\n",
      "  / max(np.nan_to_num(gt[gr_b_p].mean()).item(), 1e-7)\n"
     ]
    },
    {
     "name": "stdout",
     "output_type": "stream",
     "text": [
      "{\n",
      "  \"Statistical parity\": 0.0,\n",
      "  \"Equal opportunity\": 0.0,\n",
      "  \"Positive predictive parity\": 0.0,\n",
      "  \"Negative predictive parity\": 0.36300953567140615\n",
      "}\n",
      "Model 5\n",
      "Initial model accuracy is 0.7646335959434509\n"
     ]
    },
    {
     "name": "stderr",
     "output_type": "stream",
     "text": [
      "batch: 100%|██████████| 56/56 [00:00<00:00, 834.77it/s]\n",
      "batch: 100%|██████████| 56/56 [00:00<00:00, 790.16it/s]racy is 0.7645722031593323 and train 0.6415041089057922:   0%|          | 0/3 [00:00<?, ?it/s]\n",
      "batch: 100%|██████████| 56/56 [00:00<00:00, 718.72it/s]racy is 0.7645722031593323 and train 0.6963528394699097:  67%|██████▋   | 2/3 [00:00<00:00, 12.90it/s]\n",
      "Loss 0.639954149723053 At the end of epoch 2 test accuracy is 0.7646335959434509 and train 0.7348034977912903: 100%|██████████| 3/3 [00:00<00:00, 12.46it/s] \n"
     ]
    },
    {
     "name": "stdout",
     "output_type": "stream",
     "text": [
      "{\n",
      "  \"Statistical parity\": 0.15410158038139343,\n",
      "  \"Equal opportunity\": 0.4245111048221588,\n",
      "  \"Positive predictive parity\": 1.0,\n",
      "  \"Negative predictive parity\": 0.36347847706044123\n",
      "}\n",
      "Model 6\n",
      "Initial model accuracy is 0.23622627556324005\n"
     ]
    },
    {
     "name": "stderr",
     "output_type": "stream",
     "text": [
      "batch: 100%|██████████| 56/56 [00:00<00:00, 778.43it/s]\n",
      "batch: 100%|██████████| 56/56 [00:00<00:00, 778.79it/s]racy is 0.23622627556324005 and train 0.4076901376247406:   0%|          | 0/3 [00:00<?, ?it/s]\n",
      "batch: 100%|██████████| 56/56 [00:00<00:00, 793.64it/s]racy is 0.23622627556324005 and train 0.47045519948005676:  67%|██████▋   | 2/3 [00:00<00:00, 12.63it/s]\n",
      "Loss 0.6983863711357117 At the end of epoch 2 test accuracy is 0.23622627556324005 and train 0.545660138130188: 100%|██████████| 3/3 [00:00<00:00, 12.63it/s]  \n",
      "/tmp/ipykernel_11675/2636794302.py:150: RuntimeWarning: Mean of empty slice.\n",
      "  np.nan_to_num(gt[gr_a_np].mean().item())\n",
      "/home/skonrad/Arbeit/eXplainableMachineLearning-2025/.venv/lib/python3.12/site-packages/numpy/_core/_methods.py:147: RuntimeWarning: invalid value encountered in scalar divide\n",
      "  ret = ret.dtype.type(ret / rcount)\n",
      "/tmp/ipykernel_11675/2636794302.py:151: RuntimeWarning: Mean of empty slice.\n",
      "  / max(np.nan_to_num(gt[gr_b_np].mean()).item(), 1e-7)\n"
     ]
    },
    {
     "name": "stdout",
     "output_type": "stream",
     "text": [
      "{\n",
      "  \"Statistical parity\": 1.0,\n",
      "  \"Equal opportunity\": 1.0,\n",
      "  \"Positive predictive parity\": 0.36300953567140615,\n",
      "  \"Negative predictive parity\": 0.0\n",
      "}\n",
      "Model 7\n",
      "Initial model accuracy is 0.7641422748565674\n"
     ]
    },
    {
     "name": "stderr",
     "output_type": "stream",
     "text": [
      "batch: 100%|██████████| 56/56 [00:00<00:00, 785.44it/s]\n",
      "batch: 100%|██████████| 56/56 [00:00<00:00, 814.32it/s]racy is 0.7642651200294495 and train 0.452643483877182:   0%|          | 0/3 [00:00<?, ?it/s]\n",
      "batch: 100%|██████████| 56/56 [00:00<00:00, 796.37it/s]racy is 0.7643265128135681 and train 0.5493355989456177:  67%|██████▋   | 2/3 [00:00<00:00, 12.91it/s]\n",
      "Loss 0.6983003616333008 At the end of epoch 2 test accuracy is 0.7643879652023315 and train 0.6511167883872986: 100%|██████████| 3/3 [00:00<00:00, 12.86it/s]\n",
      "/tmp/ipykernel_11675/2636794302.py:138: RuntimeWarning: Mean of empty slice.\n",
      "  np.nan_to_num(gt[gr_a_p].mean().item())\n",
      "/home/skonrad/Arbeit/eXplainableMachineLearning-2025/.venv/lib/python3.12/site-packages/numpy/_core/_methods.py:147: RuntimeWarning: invalid value encountered in scalar divide\n",
      "  ret = ret.dtype.type(ret / rcount)\n"
     ]
    },
    {
     "name": "stdout",
     "output_type": "stream",
     "text": [
      "{\n",
      "  \"Statistical parity\": 0.0,\n",
      "  \"Equal opportunity\": 0.0,\n",
      "  \"Positive predictive parity\": 0.0,\n",
      "  \"Negative predictive parity\": 0.363792571800657\n",
      "}\n",
      "Model 8\n",
      "Initial model accuracy is 0.2365948110818863\n"
     ]
    },
    {
     "name": "stderr",
     "output_type": "stream",
     "text": [
      "batch: 100%|██████████| 56/56 [00:00<00:00, 754.35it/s]\n",
      "batch: 100%|██████████| 56/56 [00:00<00:00, 795.09it/s]racy is 0.7724955677986145 and train 0.3452078104019165:   0%|          | 0/3 [00:00<?, ?it/s]\n",
      "batch: 100%|██████████| 56/56 [00:00<00:00, 813.60it/s]racy is 0.7694244980812073 and train 0.3754594326019287:  67%|██████▋   | 2/3 [00:00<00:00, 12.52it/s]\n",
      "Loss 0.7009738087654114 At the end of epoch 2 test accuracy is 0.7682574987411499 and train 0.45207804441452026: 100%|██████████| 3/3 [00:00<00:00, 12.68it/s]\n"
     ]
    },
    {
     "name": "stdout",
     "output_type": "stream",
     "text": [
      "{\n",
      "  \"Statistical parity\": 0.39409583806991577,\n",
      "  \"Equal opportunity\": 1.0856349468231201,\n",
      "  \"Positive predictive parity\": 1.0,\n",
      "  \"Negative predictive parity\": 0.3611798685955217\n",
      "}\n",
      "Model 9\n",
      "Initial model accuracy is 0.7638351321220398\n"
     ]
    },
    {
     "name": "stderr",
     "output_type": "stream",
     "text": [
      "batch: 100%|██████████| 56/56 [00:00<00:00, 802.08it/s]\n",
      "batch: 100%|██████████| 56/56 [00:00<00:00, 811.82it/s]racy is 0.7638965845108032 and train 0.5507492423057556:   0%|          | 0/3 [00:00<?, ?it/s]\n",
      "batch: 100%|██████████| 56/56 [00:00<00:00, 823.02it/s]acy is 0.764080822467804 and train 0.6632739901542664:  67%|██████▋   | 2/3 [00:00<00:00, 13.08it/s]\n",
      "Loss 0.661750316619873 At the end of epoch 2 test accuracy is 0.7641422748565674 and train 0.73508620262146: 100%|██████████| 3/3 [00:00<00:00, 13.10it/s] \n",
      "/tmp/ipykernel_11675/2636794302.py:138: RuntimeWarning: Mean of empty slice.\n",
      "  np.nan_to_num(gt[gr_a_p].mean().item())\n",
      "/home/skonrad/Arbeit/eXplainableMachineLearning-2025/.venv/lib/python3.12/site-packages/numpy/_core/_methods.py:147: RuntimeWarning: invalid value encountered in scalar divide\n",
      "  ret = ret.dtype.type(ret / rcount)\n"
     ]
    },
    {
     "name": "stdout",
     "output_type": "stream",
     "text": [
      "{\n",
      "  \"Statistical parity\": 0.0,\n",
      "  \"Equal opportunity\": 0.0,\n",
      "  \"Positive predictive parity\": 0.0,\n",
      "  \"Negative predictive parity\": 0.36347877910689197\n",
      "}\n"
     ]
    }
   ],
   "source": [
    "exp3_fairness_data = {\"Train Accuracy\": [], \"Test Accuracy\": []}\n",
    "torch.manual_seed(42)\n",
    "for i in range(10):\n",
    "    print(f\"Model {i}\")\n",
    "    model = SimpleLinear(in_dim=103, out_dim=2)\n",
    "    model.to(DEVICE)\n",
    "    optim = torch.optim.AdamW(params=model.parameters(), lr=1e-4, weight_decay=0.1)\n",
    "\n",
    "    gr_a_data = train_df[train_df[PROTECTED_ATTRIBUTE[0]]]\n",
    "    gr_b_data = train_df[train_df[PROTECTED_ATTRIBUTE[1]]]\n",
    "\n",
    "    gr_a_neg = gr_a_data[np.logical_not(gr_a_data[TARGET].to_numpy())]\n",
    "    gr_a_pos = gr_a_data[gr_a_data[TARGET]]\n",
    "\n",
    "\n",
    "    gr_b_neg = gr_b_data[np.logical_not(gr_b_data[TARGET].to_numpy())]\n",
    "    gr_b_pos = gr_b_data[gr_b_data[TARGET].to_numpy()]\n",
    "\n",
    "\n",
    "    min_len = min(len(gr_a_neg), len(gr_a_pos), len(gr_b_neg), len(gr_b_pos))\n",
    "\n",
    "    gr_a_neg = gr_a_neg.iloc[:min_len]\n",
    "    gr_a_pos = gr_a_pos.iloc[:min_len]\n",
    "\n",
    "\n",
    "    gr_b_neg = gr_b_neg.iloc[:min_len]\n",
    "    gr_b_pos = gr_b_pos.iloc[:min_len]\n",
    "\n",
    "\n",
    "    ballanced_train_df = pd.concat([gr_a_neg, gr_a_pos, gr_b_neg], axis=0)\n",
    "\n",
    "    final_acc_test, final_acc_train = train(\n",
    "        model=model,\n",
    "        optimizer=optim,\n",
    "        train_df=ballanced_train_df,\n",
    "        test_df=test_df,\n",
    "        num_epochs=3,\n",
    "        batch_size=64,\n",
    "        device=DEVICE,\n",
    "    )\n",
    "    res = analyze_fairness(model=model, test_df=test_df)\n",
    "    for k, v in res.items():\n",
    "        if k not in exp3_fairness_data:\n",
    "            exp3_fairness_data[k] = []\n",
    "        exp3_fairness_data[k].append(v)\n",
    "    exp3_fairness_data[\"Test Accuracy\"].append(final_acc_test)\n",
    "    exp3_fairness_data[\"Train Accuracy\"].append(final_acc_train)"
   ]
  }
 ],
 "metadata": {
  "kernelspec": {
   "display_name": ".venv",
   "language": "python",
   "name": "python3"
  },
  "language_info": {
   "codemirror_mode": {
    "name": "ipython",
    "version": 3
   },
   "file_extension": ".py",
   "mimetype": "text/x-python",
   "name": "python",
   "nbconvert_exporter": "python",
   "pygments_lexer": "ipython3",
   "version": "3.12.3"
  }
 },
 "nbformat": 4,
 "nbformat_minor": 2
}
